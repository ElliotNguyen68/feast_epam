{
 "cells": [
  {
   "cell_type": "code",
   "execution_count": 1,
   "metadata": {},
   "outputs": [],
   "source": [
    "import sys\n",
    "sys.path.append('../')\n",
    "import os\n",
    "os.environ['REGISTRY_PATH']='../registry.pb'\n",
    "os.environ['FEATURE_FOLDER_PATH']='../features'\n",
    "from pyspark.sql import SparkSession\n",
    "\n",
    "import pandas as pd\n",
    "from datetime import datetime"
   ]
  },
  {
   "cell_type": "code",
   "execution_count": 2,
   "metadata": {},
   "outputs": [
    {
     "name": "stderr",
     "output_type": "stream",
     "text": [
      "Setting default log level to \"WARN\".\n",
      "To adjust logging level use sc.setLogLevel(newLevel). For SparkR, use setLogLevel(newLevel).\n",
      "24/03/21 11:38:23 WARN NativeCodeLoader: Unable to load native-hadoop library for your platform... using builtin-java classes where applicable\n",
      "/opt/code/contrib/feast_epam/env/lib/python3.9/site-packages/feast/infra/offline_stores/contrib/spark_offline_store/spark_source.py:67: RuntimeWarning: The spark data source API is an experimental feature in alpha development. This API is unstable and it could and most probably will be changed in the future.\n",
      "  warnings.warn(\n"
     ]
    }
   ],
   "source": [
    "from feature_repo import store"
   ]
  },
  {
   "cell_type": "code",
   "execution_count": 3,
   "metadata": {},
   "outputs": [],
   "source": [
    "spark=SparkSession.getActiveSession()"
   ]
  },
  {
   "cell_type": "code",
   "execution_count": 4,
   "metadata": {},
   "outputs": [
    {
     "name": "stderr",
     "output_type": "stream",
     "text": [
      "/opt/code/contrib/feast_epam/env/lib/python3.9/site-packages/feast/repo_config.py:228: RuntimeWarning: `entity_key_serialization_version` is either not specified in the feature_store.yaml, or is specified to a value <= 1.This serialization version may cause errors when trying to write fields with the `Long` data type into the online store. Specifying `entity_key_serialization_version` to 2 is recommended for new projects. \n",
      "  warnings.warn(\n"
     ]
    }
   ],
   "source": [
    "f_store=store.get_store()"
   ]
  },
  {
   "cell_type": "code",
   "execution_count": 5,
   "metadata": {},
   "outputs": [
    {
     "data": {
      "text/plain": [
       "<feast.infra.offline_stores.contrib.spark_offline_store.spark_source.SparkSource at 0x1699d9df0>"
      ]
     },
     "execution_count": 5,
     "metadata": {},
     "output_type": "execute_result"
    }
   ],
   "source": [
    "f_store.list_data_sources()[0]"
   ]
  },
  {
   "cell_type": "code",
   "execution_count": 6,
   "metadata": {},
   "outputs": [
    {
     "data": {
      "text/plain": [
       "<FeatureView(name = user_info, entities = ['user'], ttl = 0:00:00, stream_source = None, batch_source = {\n",
       "  \"type\": \"BATCH_SPARK\",\n",
       "  \"timestampField\": \"txn_datetime\",\n",
       "  \"dataSourceClassType\": \"feast.infra.offline_stores.contrib.spark_offline_store.spark_source.SparkSource\",\n",
       "  \"name\": \"user_loan\",\n",
       "  \"sparkOptions\": {\n",
       "    \"path\": \"loan_default_gen.parquet\",\n",
       "    \"fileFormat\": \"parquet\"\n",
       "  }\n",
       "}, entity_columns = [user_id-String], features = [Age-Int64, Education-String, CreditScore-Int64, MonthsEmployed-Int64], description = Calculate overall transaction behaviors of customer, tags = {}, owner = , projection = FeatureViewProjection(name='user_info', name_alias=None, desired_features=[], features=[Age-Int64, Education-String, CreditScore-Int64, MonthsEmployed-Int64], join_key_map={}), created_timestamp = 2024-03-21 01:24:41.682960, last_updated_timestamp = 2024-03-21 01:24:41.682960, online = True, materialization_intervals = [])>"
      ]
     },
     "execution_count": 6,
     "metadata": {},
     "output_type": "execute_result"
    }
   ],
   "source": [
    "f_store.list_feature_views()[0]"
   ]
  },
  {
   "cell_type": "code",
   "execution_count": 5,
   "metadata": {},
   "outputs": [
    {
     "name": "stderr",
     "output_type": "stream",
     "text": [
      "/var/folders/_6/gftk13754td4yhqfcv8mzqlh0000gn/T/ipykernel_49050/3345325806.py:3: FutureWarning: The pandas.datetime class is deprecated and will be removed from pandas in a future version. Import from datetime module instead.\n",
      "  ['HlWpZydxscnmjGgeIPLi',pd.datetime(2023,1,2)],\n",
      "/var/folders/_6/gftk13754td4yhqfcv8mzqlh0000gn/T/ipykernel_49050/3345325806.py:4: FutureWarning: The pandas.datetime class is deprecated and will be removed from pandas in a future version. Import from datetime module instead.\n",
      "  ['RckfsuJrhXFYAToUVlmy',pd.datetime(2024,1,9)],\n"
     ]
    }
   ],
   "source": [
    "entity_df=pd.DataFrame(\n",
    "    [\n",
    "        ['HlWpZydxscnmjGgeIPLi',pd.datetime(2023,1,2)],\n",
    "        ['RckfsuJrhXFYAToUVlmy',pd.datetime(2024,1,9)],\n",
    "    ],\n",
    "    columns=['user_id','event_timestamp']\n",
    ")"
   ]
  },
  {
   "cell_type": "code",
   "execution_count": 14,
   "metadata": {},
   "outputs": [],
   "source": [
    "df=spark.read.parquet('../features/loan_default_gen')\n"
   ]
  },
  {
   "cell_type": "code",
   "execution_count": 17,
   "metadata": {},
   "outputs": [
    {
     "name": "stdout",
     "output_type": "stream",
     "text": [
      "+----------+---+------+----------+-----------+--------------+--------------+------------+--------+--------+-----------+--------------+-------------+-----------+-------------+-----------+-----------+-------+--------------------+-------------------+\n",
      "|    LoanID|Age|Income|LoanAmount|CreditScore|MonthsEmployed|NumCreditLines|InterestRate|LoanTerm|DTIRatio|  Education|EmploymentType|MaritalStatus|HasMortgage|HasDependents|LoanPurpose|HasCoSigner|Default|             user_id|       txn_datetime|\n",
      "+----------+---+------+----------+-----------+--------------+--------------+------------+--------+--------+-----------+--------------+-------------+-----------+-------------+-----------+-----------+-------+--------------------+-------------------+\n",
      "|SC7OVY0X3Y| 62| 52384|     53174|        456|            87|             2|         6.6|      48|    0.58|High School|     Part-time|      Married|        Yes|           No|       Home|        Yes|      0|HlWpZydxscnmjGgeIPLi|2023-11-01 07:25:25|\n",
      "|S172HKAK5E| 26| 62649|    139097|        592|            46|             4|       19.55|      60|    0.81|   Master's|    Unemployed|     Divorced|         No|           No|      Other|        Yes|      0|DhpzEHOrnKsJtvNUjfgS|2022-06-03 21:58:13|\n",
      "|BAD1CMUPQK| 57|109070|     33702|        844|            85|             1|       10.86|      24|    0.77|High School| Self-employed|       Single|         No|          Yes|   Business|         No|      0|yucsUCBvzEqfnDWirTdZ|2021-04-02 12:15:11|\n",
      "|BR1X0OAWLN| 30|110127|     92649|        786|            10|             2|       21.79|      60|    0.65| Bachelor's|     Full-time|       Single|         No|           No|       Home|         No|      0|KXsadBxzITOyMHGSJwmu|2022-08-28 14:56:25|\n",
      "|KKQN97HSRW| 41|117798|      5948|        505|            65|             3|       15.97|      60|    0.86|        PhD|     Full-time|     Divorced|         No|           No|   Business|         No|      0|tEoHgcezBMYCILmTbZWk|2021-09-01 17:57:04|\n",
      "|KDFA4E1ZOL| 57| 21864|    108608|        689|            53|             2|       12.75|      60|     0.1|        PhD|     Part-time|     Divorced|        Yes|          Yes|   Business|         No|      1|beuQhSGROnExrzWgwaPt|2021-08-15 05:51:57|\n",
      "|AGMHWJDPF9| 34| 71740|    117492|        556|           105|             3|       11.98|      36|     0.2| Bachelor's| Self-employed|      Married|         No|           No|       Auto|        Yes|      0|pYrZosIdLxhXjgtJiWGk|2021-10-16 01:29:48|\n",
      "|XA91HK5CT8| 50|126009|    246355|        440|             3|             3|       20.97|      60|     0.8|High School| Self-employed|      Married|         No|           No|   Business|        Yes|      0|aNEsZonpdJyMbIHRGrkY|2023-04-15 05:42:03|\n",
      "|SCRKQLEG9L| 40| 75671|     92987|        591|            88|             4|       11.94|      48|    0.61|   Master's|     Full-time|       Single|        Yes|          Yes|   Business|        Yes|      0|TCJpFltbyoNUGVvAsuPI|2022-10-06 11:52:13|\n",
      "|68OOZMJ2QS| 44| 40437|     90575|        725|           102|             2|       12.58|      36|    0.86| Bachelor's|    Unemployed|      Married|         No|           No|       Home|        Yes|      0|rZpetbzxOdHGQgDqRvhk|2024-02-13 18:41:01|\n",
      "|W18F79CB7A| 61| 61527|    201375|        396|             7|             4|         6.7|      12|    0.72| Bachelor's| Self-employed|     Divorced|        Yes|          Yes|       Auto|        Yes|      0|VWhCIsOqnKUgaJLbPFDv|2021-09-19 23:31:45|\n",
      "|2JHX8CQMXD| 61| 66104|    108901|        373|            32|             3|       13.78|      36|    0.86| Bachelor's|    Unemployed|       Single|        Yes|          Yes|   Business|        Yes|      0|khPlugVNrCJBIaXEAHYK|2021-12-10 09:00:00|\n",
      "|7OX2VH42U5| 60| 73773|     35252|        663|           100|             3|       16.32|      48|    0.57|   Master's|     Full-time|      Married|         No|           No|      Other|        Yes|      0|wJspcUmqhMVOjHTetBSr|2022-11-17 14:56:49|\n",
      "|IA5M317AUG| 43|148103|    238302|        409|           107|             1|       14.58|      48|    0.12| Bachelor's| Self-employed|     Divorced|        Yes|           No|       Home|         No|      0|bTmDcleZkPBJnOWjxSCi|2023-04-03 12:31:25|\n",
      "|7AAZGHDNAH| 41| 22396|     74447|        805|            89|             1|        16.3|      48|    0.35|        PhD|     Part-time|      Married|        Yes|           No|   Business|        Yes|      0|WBLOfsyPQpdGXzNRlwoc|2022-12-16 21:25:49|\n",
      "|TVB3JAGAIN| 28|110195|    197730|        565|           115|             3|       15.82|      12|    0.74|        PhD|     Full-time|       Single|         No|          Yes|  Education|        Yes|      0|PgyMkWEarUZADLOCsxRN|2022-08-20 08:43:43|\n",
      "|M1E11YJX3Y| 46|106831|    234415|        468|            24|             4|        7.58|      12|     0.2|   Master's|    Unemployed|     Divorced|         No|           No|  Education|        Yes|      1|lKyvoTfnEDBjabHRqcdt|2021-06-14 02:18:52|\n",
      "|Q8GMWH59HE| 65| 37281|    186969|        762|             2|             2|        4.96|      60|    0.56|High School|     Full-time|       Single|        Yes|          Yes|      Other|         No|      0|RckfsuJrhXFYAToUVlmy|2024-01-26 14:23:38|\n",
      "|RA98S1QYWN| 22| 36497|     67503|        577|            56|             2|        3.73|      12|    0.15|   Master's| Self-employed|       Single|        Yes|           No|  Education|         No|      0|IeraYqjZTnOVAtoSuMRd|2022-01-03 10:27:48|\n",
      "|TT6D92FISB| 41| 42750|    183027|        759|            52|             2|       13.22|      48|    0.24| Bachelor's| Self-employed|      Married|        Yes|           No|   Business|        Yes|      0|WJGbtTpKalFBqmMhcnPC|2023-05-08 23:52:31|\n",
      "+----------+---+------+----------+-----------+--------------+--------------+------------+--------+--------+-----------+--------------+-------------+-----------+-------------+-----------+-----------+-------+--------------------+-------------------+\n",
      "only showing top 20 rows\n",
      "\n"
     ]
    }
   ],
   "source": [
    "df.show()"
   ]
  },
  {
   "cell_type": "code",
   "execution_count": 72,
   "metadata": {},
   "outputs": [
    {
     "data": {
      "text/plain": [
       "DataFrame[txn_datetime: string]"
      ]
     },
     "execution_count": 72,
     "metadata": {},
     "output_type": "execute_result"
    }
   ],
   "source": [
    "df.select('txn_datetime')"
   ]
  },
  {
   "cell_type": "code",
   "execution_count": 6,
   "metadata": {},
   "outputs": [
    {
     "name": "stderr",
     "output_type": "stream",
     "text": [
      "/opt/code/contrib/feast_epam/env/lib/python3.9/site-packages/feast/infra/offline_stores/contrib/spark_offline_store/spark_source.py:67: RuntimeWarning: The spark data source API is an experimental feature in alpha development. This API is unstable and it could and most probably will be changed in the future.\n",
      "  warnings.warn(\n",
      "/opt/code/contrib/feast_epam/env/lib/python3.9/site-packages/feast/infra/offline_stores/contrib/spark_offline_store/spark.py:137: RuntimeWarning: The spark offline store is an experimental feature in alpha development. Some functionality may still be unstable so functionality can change in the future.\n",
      "  warnings.warn(\n",
      "                                                                                \r"
     ]
    },
    {
     "name": "stdout",
     "output_type": "stream",
     "text": [
      "+--------------------+-------------------+---+-----------+\n",
      "|             user_id|    event_timestamp|Age|  Education|\n",
      "+--------------------+-------------------+---+-----------+\n",
      "|HlWpZydxscnmjGgeIPLi|2023-01-02 07:00:00| 27|        PhD|\n",
      "|RckfsuJrhXFYAToUVlmy|2024-01-09 07:00:00| 49|High School|\n",
      "+--------------------+-------------------+---+-----------+\n",
      "\n"
     ]
    }
   ],
   "source": [
    "f_store.get_historical_features(\n",
    "    entity_df=entity_df,\n",
    "    features=['user_info:Age','user_info:Education']\n",
    ").to_spark_df().show()"
   ]
  },
  {
   "cell_type": "code",
   "execution_count": null,
   "metadata": {},
   "outputs": [],
   "source": []
  },
  {
   "cell_type": "code",
   "execution_count": null,
   "metadata": {},
   "outputs": [],
   "source": []
  }
 ],
 "metadata": {
  "kernelspec": {
   "display_name": "env",
   "language": "python",
   "name": "python3"
  },
  "language_info": {
   "codemirror_mode": {
    "name": "ipython",
    "version": 3
   },
   "file_extension": ".py",
   "mimetype": "text/x-python",
   "name": "python",
   "nbconvert_exporter": "python",
   "pygments_lexer": "ipython3",
   "version": "3.9.6"
  },
  "orig_nbformat": 4
 },
 "nbformat": 4,
 "nbformat_minor": 2
}
