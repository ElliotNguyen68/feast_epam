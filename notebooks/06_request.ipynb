{
 "cells": [
  {
   "cell_type": "code",
   "execution_count": 1,
   "metadata": {},
   "outputs": [],
   "source": [
    "import requests"
   ]
  },
  {
   "cell_type": "code",
   "execution_count": 5,
   "metadata": {},
   "outputs": [],
   "source": [
    "url='http://0.0.0.0:8000/predict_loan_default'\n",
    "obj={\n",
    "    'user_id':'kyHoSmrOEWTzDRlpqBVQ',\n",
    "    'loan_amount':343,\n",
    "    'interest_rate':0.5,\n",
    "    'dti_ratio':0.8,\n",
    "    'loan_term':45\n",
    "}"
   ]
  },
  {
   "cell_type": "code",
   "execution_count": 16,
   "metadata": {},
   "outputs": [],
   "source": [
    "res=requests.post(url=url,json=obj)"
   ]
  },
  {
   "cell_type": "code",
   "execution_count": 17,
   "metadata": {},
   "outputs": [
    {
     "data": {
      "text/plain": [
       "{'request': {'user_id': 'kyHoSmrOEWTzDRlpqBVQ',\n",
       "  'loan_amount': 343.0,\n",
       "  'interest_rate': 0.5,\n",
       "  'loan_term': 45,\n",
       "  'dti_ratio': 0.8},\n",
       " 'default_score': 0.0006358514656312764}"
      ]
     },
     "execution_count": 17,
     "metadata": {},
     "output_type": "execute_result"
    }
   ],
   "source": [
    "res.json()"
   ]
  },
  {
   "cell_type": "code",
   "execution_count": null,
   "metadata": {},
   "outputs": [],
   "source": []
  }
 ],
 "metadata": {
  "kernelspec": {
   "display_name": "env",
   "language": "python",
   "name": "python3"
  },
  "language_info": {
   "codemirror_mode": {
    "name": "ipython",
    "version": 3
   },
   "file_extension": ".py",
   "mimetype": "text/x-python",
   "name": "python",
   "nbconvert_exporter": "python",
   "pygments_lexer": "ipython3",
   "version": "3.9.6"
  },
  "orig_nbformat": 4
 },
 "nbformat": 4,
 "nbformat_minor": 2
}
